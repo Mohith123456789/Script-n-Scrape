{
 "cells": [
  {
   "cell_type": "markdown",
   "metadata": {},
   "source": [
    "# NumPy"
   ]
  },
  {
   "cell_type": "markdown",
   "metadata": {},
   "source": [
    "This shall give you an idea of the intricacies in this library and will make you appreciate why NumPy is soo useful. "
   ]
  },
  {
   "cell_type": "code",
   "execution_count": 2,
   "metadata": {},
   "outputs": [],
   "source": [
    "import numpy as np"
   ]
  },
  {
   "cell_type": "markdown",
   "metadata": {},
   "source": [
    "## Vectorization\n",
    "\n",
    "NumPy vectorization involves performing mathematical operations on entire\n",
    "arrays, eliminating the need to loop through individual elements.\n",
    "\n",
    "Let's compare the execution times of a non-vectorized program and a vectorized one.\n",
    "\n",
    "Your goal is to multiply each element of the 2D arrays by 3. Implement this using both non-vectorized and vectorized approaches.\n",
    "\n"
   ]
  },
  {
   "cell_type": "code",
   "execution_count": null,
   "metadata": {},
   "outputs": [
    {
     "name": "stdout",
     "output_type": "stream",
     "text": [
      "Time taken in non-vectorized approach: 370.37158012390137 ms\n",
      "Time taken in vectorized approach: 1.0216236114501953 ms\n"
     ]
    }
   ],
   "source": [
    "import time\n",
    "\n",
    "arr_nonvectorized = np.random.rand(1000, 1000)\n",
    "arr_vectorized = np.array(arr_nonvectorized) # making a deep copy of the array https://stackoverflow.com/questions/184710/what-is-the-difference-between-a-deep-copy-and-a-shallow-copy\n",
    "\n",
    "start_nv = time.time()\n",
    "\n",
    "# Non-vectorized approach\n",
    "# <START>\n",
    "for x in range(arr_nonvectorized.shape[0]):\n",
    "    for y in range(arr_nonvectorized.shape[1]):\n",
    "        arr_nonvectorized[x,y]*=3\n",
    "# <END>\n",
    "\n",
    "end_nv = time.time()\n",
    "print(\"Time taken in non-vectorized approach:\", 1000*(end_nv-start_nv), \"ms\")\n",
    "\n",
    "start_v = time.time()\n",
    "\n",
    "# Vectorized approach\n",
    "# <START>\n",
    "arr_vectorized*=3\n",
    "# <END>\n",
    "\n",
    "end_v = time.time()\n",
    "print(\"Time taken in vectorized approach:\", 1000*(end_v-start_v), \"ms\")\n",
    "\n",
    "# uncomment and execute the below line to convince yourself that both approaches are doing the same thing\n",
    "# print(np.allclose(arr_nonvectorized, arr_vectorized))"
   ]
  },
  {
   "cell_type": "markdown",
   "metadata": {},
   "source": [
    "Perform Matrix Multiplication of A and B using vectorized and non-vectorized means and observe the time difference."
   ]
  },
  {
   "cell_type": "code",
   "execution_count": null,
   "metadata": {},
   "outputs": [
    {
     "name": "stdout",
     "output_type": "stream",
     "text": [
      "Time taken in non-vectorized approach: 64876.49440765381 ms\n",
      "Time taken in vectorized approach: 4.245996475219727 ms\n"
     ]
    }
   ],
   "source": [
    "# Generate two random 500x500 matrices\n",
    "A = np.random.rand(500, 500)\n",
    "B = np.random.rand(500, 500)\n",
    "\n",
    "# Non-vectorized matrix multiplication\n",
    "C_nonvectorized = np.zeros((500, 500))  # Initialize result matrix\n",
    "start_nv = time.time()\n",
    "\n",
    "# <START: Non-vectorized approach>\n",
    "for i in range(500):\n",
    "    for j in range(500):\n",
    "        for k in range(500):\n",
    "            C_nonvectorized[i,j]+=A[i,k]*B[k,j]\n",
    "# <END>\n",
    "\n",
    "end_nv = time.time()\n",
    "print(\"Time taken in non-vectorized approach:\", 1000 * (end_nv - start_nv), \"ms\")\n",
    "\n",
    "# Vectorized matrix multiplication\n",
    "start_v = time.time()\n",
    "\n",
    "# <START: Vectorized approach>\n",
    "# C_nonvectorized=np.dot(A,B)\n",
    "C_nonvectorized=A@B\n",
    "# <END>\n",
    "\n",
    "end_v = time.time()\n",
    "print(\"Time taken in vectorized approach:\", 1000 * (end_v - start_v), \"ms\")\n",
    "\n",
    "# Uncomment and execute the below line to verify both approaches give the same result\n",
    "# print(np.allclose(C_nonvectorized, C_vectorized))"
   ]
  },
  {
   "cell_type": "markdown",
   "metadata": {},
   "source": [
    "Vectorization uses NuPy's low level operations to speed things up. Make sure you know why!"
   ]
  },
  {
   "cell_type": "markdown",
   "metadata": {},
   "source": [
    "### :\\\\/: *no for loops alllowed  hereafter* :\\\\/:"
   ]
  },
  {
   "cell_type": "markdown",
   "metadata": {},
   "source": [
    "## Broadcasting\n",
    "\n",
    "You are given a set of 5 2D points as an ndarray and you want to compute the euclidean distance between each pair of points and store it into a 5*5 ndarray.\n",
    "\n",
    "*Hint: use the* `np.linalg.norm()` *function for this*"
   ]
  },
  {
   "cell_type": "code",
   "execution_count": null,
   "metadata": {},
   "outputs": [
    {
     "name": "stdout",
     "output_type": "stream",
     "text": [
      "2D Points:\n",
      " [[6.50286856 0.97819666]\n",
      " [5.87422798 5.37384428]\n",
      " [4.01666941 6.71804427]\n",
      " [8.61858463 6.0427747 ]\n",
      " [1.89731422 9.74979995]]\n",
      "Pairwise Euclidean Distance Matrix:\n",
      " [[0.         4.4403724  6.25516081 5.4887344  9.90717695]\n",
      " [4.4403724  0.         2.29290154 2.82470552 5.91310672]\n",
      " [6.25516081 2.29290154 0.         4.65119475 3.69908217]\n",
      " [5.4887344  2.82470552 4.65119475 0.         7.67577436]\n",
      " [9.90717695 5.91310672 3.69908217 7.67577436 0.        ]]\n"
     ]
    }
   ],
   "source": [
    "import numpy as np\n",
    "\n",
    "# Generate a random 5x2 array of points (values between 0 and 10)\n",
    "points = np.random.rand(5, 2) *10\n",
    "print(\"2D Points:\\n\", points)\n",
    "\n",
    "# Task: Compute pairwise Euclidean distances using broadcasting\n",
    "# <START: Pairwise distance computation>\n",
    "distance_matrix = np.linalg.norm(points[np.newaxis,:]-points[:,np.newaxis], axis=2) # Replace with broadcasting operation\n",
    "# <END>\n",
    "\n",
    "#  Print the distance matrix\n",
    "print(\"Pairwise Euclidean Distance Matrix:\\n\", distance_matrix)\n"
   ]
  },
  {
   "cell_type": "code",
   "execution_count": 44,
   "metadata": {},
   "outputs": [
    {
     "data": {
      "text/plain": [
       "32.30318328379296"
      ]
     },
     "execution_count": 44,
     "metadata": {},
     "output_type": "execute_result"
    }
   ],
   "source": [
    "# 2 x 5 x 5\n",
    "(9.71911312 - 4.1080346)**2 + (6.53592428-5.63094852)**2"
   ]
  }
 ],
 "metadata": {
  "kernelspec": {
   "display_name": "Python 3",
   "language": "python",
   "name": "python3"
  },
  "language_info": {
   "codemirror_mode": {
    "name": "ipython",
    "version": 3
   },
   "file_extension": ".py",
   "mimetype": "text/x-python",
   "name": "python",
   "nbconvert_exporter": "python",
   "pygments_lexer": "ipython3",
   "version": "3.12.7"
  }
 },
 "nbformat": 4,
 "nbformat_minor": 2
}
