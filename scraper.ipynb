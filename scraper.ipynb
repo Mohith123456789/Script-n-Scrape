{
 "cells": [
  {
   "cell_type": "code",
   "execution_count": 152,
   "metadata": {},
   "outputs": [],
   "source": [
    "import json\n",
    "import re\n",
    "import os\n",
    "import requests\n",
    "from selenium import webdriver\n",
    "from selenium.webdriver.common.action_chains import ActionChains\n",
    "from selenium.webdriver.common.by import By\n",
    "from selenium.webdriver.common.keys import Keys\n",
    "from bs4 import BeautifulSoup\n",
    "from fpdf import FPDF\n",
    "import numpy as np \n",
    "import pandas as pd\n",
    "from selenium.webdriver.common.by import By \n",
    "from selenium.webdriver.support.ui import WebDriverWait \n",
    "from selenium.webdriver.support import expected_conditions as EC\n",
    "from selenium.webdriver.chrome.service import Service"
   ]
  },
  {
   "cell_type": "code",
   "execution_count": 158,
   "metadata": {},
   "outputs": [],
   "source": [
    "service = Service(\"/usr/bin/chromedriver\")  # Update path if different\n",
    "driver = webdriver.Chrome(service=service)\n",
    "\n",
    "driver.get(\"https://www.imdb.com/chart/top/\") \n",
    "info=driver.find_element(By.XPATH,f\"/html/body/div[2]/main/div/div[3]/section/div/div[2]/div/div[1]/div/div/button[1]\")\n",
    "info.click()"
   ]
  },
  {
   "cell_type": "code",
   "execution_count": 154,
   "metadata": {},
   "outputs": [],
   "source": [
    "Movies=pd.DataFrame(np.nan,index=range(1,101),columns=['Movie Title','Image','Release Date','Duration Length','film Rating','Rating','Country of Origin','Directors','Stars','Summary or Plot'])\n",
    "links=[None]*100"
   ]
  },
  {
   "cell_type": "code",
   "execution_count": 160,
   "metadata": {},
   "outputs": [],
   "source": [
    "for i in range(1,101):\n",
    "        info=driver.find_element(By.XPATH,f\"/html/body/div[2]/main/div/div[3]/section/div/div[2]/div/ul/li[{i}]/div/div/div/div[1]/div[2]/div[1]/a\")\n",
    "        links[i-1]=info.get_attribute('href')\n",
    "        \n",
    "        Directors=\"\"\n",
    "        k=7\n",
    "        j=2\n",
    "        while True:\n",
    "                Director= driver.find_element(By.XPATH, f\"/html/body/div[2]/main/div/div[3]/section/div/div[2]/div/ul/li[{i}]/div/div/div/div[2]/span/span[{j}]/a\")\n",
    "                Directors=Directors+Director.text+\", \"\n",
    "                try:\n",
    "                        Director=driver.find_element(By.XPATH, f\"/html/body/div[2]/main/div/div[3]/section/div/div[2]/div/ul/li[{i}]/div/div/div/div[2]/span/span[{j+1}]/a\")\n",
    "                        j=j+1\n",
    "                except:\n",
    "                        Movies.iloc[(i-1),k]=Directors[:-2]\n",
    "                        if k==7 :\n",
    "                                k=8\n",
    "                        else:\n",
    "                                break\n",
    "                        j=j+2\n",
    "                        Directors=\"\"\n",
    "        \n",
    "        title=driver.find_element(By.XPATH, f\"/html/body/div[2]/main/div/div[3]/section/div/div[2]/div/ul/li[{i}]/div/div/div/div[1]/div[2]/div[1]/a/h3\")\n",
    "        Movies.iloc[(i-1),0]=title.text\n",
    "\n",
    "        image=driver.find_element(By.XPATH, f\"/html/body/div[2]/main/div/div[3]/section/div/div[2]/div/ul/li[{i}]/div/div/div/div[1]/div[1]/div/div[2]/img\")\n",
    "        Movies.iloc[(i-1),1]=image.get_attribute('src')\n",
    "\n",
    "        for j in range(1,4):\n",
    "                try:\n",
    "                        elem= driver.find_element(By.XPATH, f\"/html/body/div[2]/main/div/div[3]/section/div/div[2]/div/ul/li[{i}]/div/div/div/div[1]/div[2]/div[2]/span[{j}]\")\n",
    "                        Movies.iloc[(i-1),(j+1)]=elem.text\n",
    "                except:\n",
    "                        continue\n",
    "\n",
    "        Rating=driver.find_element(By.XPATH, f\"/html/body/div[2]/main/div/div[3]/section/div/div[2]/div/ul/li[{i}]/div/div/div/div[1]/div[2]/span/div/span/span[1]\")\n",
    "        number=driver.find_element(By.XPATH, f\"/html/body/div[2]/main/div/div[3]/section/div/div[2]/div/ul/li[{i}]/div/div/div/div[1]/div[2]/span/div/span/span[2]\")\n",
    "        Movies.iloc[(i-1),5]=Rating.text+number.text\n",
    "\n",
    "        plot= driver.find_element(By.XPATH, f\"/html/body/div[2]/main/div/div[3]/section/div/div[2]/div/ul/li[{i}]/div/div/div/div[2]/div/div\")\n",
    "        Movies.iloc[(i-1),9]=plot.text\n",
    "        "
   ]
  },
  {
   "cell_type": "code",
   "execution_count": null,
   "metadata": {},
   "outputs": [
    {
     "name": "stderr",
     "output_type": "stream",
     "text": [
      "/tmp/ipykernel_5409/1602510112.py:14: FutureWarning: Setting an item of incompatible dtype is deprecated and will raise in a future error of pandas. Value 'United States' has dtype incompatible with float64, please explicitly cast to a compatible dtype first.\n",
      "  Movies.iloc[(i-1),6]=Countries[:-2]\n"
     ]
    }
   ],
   "source": [
    "for i in range(0,100):\n",
    "        driver.get(links[i])\n",
    "        for k in range (10,14):\n",
    "                try:\n",
    "                        Release_Date=driver.find_element(By.XPATH,f\"/html/body/div[2]/main/div/section[1]/div/section/div/div[1]/section[{k}]/div[2]/ul/li[1]/div/ul/li/a\")\n",
    "                        Movies.iloc[i,2]=Release_Date.text\n",
    "\n",
    "                        Countries=\"\"\n",
    "                        for j in range(1,10):\n",
    "                                try:\n",
    "                                        Country=driver.find_element(By.XPATH,f\"/html/body/div[2]/main/div/section[1]/div/section/div/div[1]/section[{k}]/div[2]/ul/li[2]/div/ul/li[{j}]/a\")\n",
    "                                        Countries=Countries+Country.text+\", \"\n",
    "                                except:\n",
    "                                        Movies.iloc[i,6]=Countries[:-2]\n",
    "                                        break\n",
    "                except:\n",
    "                        continue"
   ]
  },
  {
   "cell_type": "code",
   "execution_count": 161,
   "metadata": {},
   "outputs": [
    {
     "name": "stderr",
     "output_type": "stream",
     "text": [
      "Error terminating service process.\n",
      "Traceback (most recent call last):\n",
      "  File \"/usr/lib/python3/dist-packages/selenium/webdriver/common/service.py\", line 170, in _terminate_process\n",
      "    self.process.terminate()\n",
      "  File \"/usr/lib/python3.12/subprocess.py\", line 2211, in terminate\n",
      "    self.send_signal(signal.SIGTERM)\n",
      "  File \"/usr/lib/python3.12/subprocess.py\", line 2203, in send_signal\n",
      "    os.kill(self.pid, sig)\n",
      "PermissionError: [Errno 13] Permission denied\n"
     ]
    }
   ],
   "source": [
    "driver.quit()\n",
    "Movies.to_json('movies.json',orient='records',indent=4)"
   ]
  }
 ],
 "metadata": {
  "kernelspec": {
   "display_name": "Python 3",
   "language": "python",
   "name": "python3"
  },
  "language_info": {
   "codemirror_mode": {
    "name": "ipython",
    "version": 3
   },
   "file_extension": ".py",
   "mimetype": "text/x-python",
   "name": "python",
   "nbconvert_exporter": "python",
   "pygments_lexer": "ipython3",
   "version": "3.12.3"
  }
 },
 "nbformat": 4,
 "nbformat_minor": 2
}
